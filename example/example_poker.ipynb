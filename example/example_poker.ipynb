{
 "cells": [
  {
   "cell_type": "code",
   "execution_count": null,
   "metadata": {},
   "outputs": [],
   "source": [
    "import numpy as np\n",
    "from matplotlib import pyplot as plt\n",
    "import matplotlib.gridspec as gridspec\n",
    "from ibp import IBP"
   ]
  },
  {
   "cell_type": "code",
   "execution_count": null,
   "metadata": {},
   "outputs": [],
   "source": [
    "def to_black(path):\n",
    "    fig = plt.imread(path)[:, :, :3]\n",
    "    fig = np.mean(fig, axis = -1)\n",
    "    return 1 - fig\n",
    "\n",
    "def flatten(fig):\n",
    "    return fig.reshape(-1)\n",
    "\n",
    "compress = to_black('poker/10D.png')[130:-130:10, 130:-130:10]\n",
    "plt.figure(figsize = (2.2, 4))\n",
    "plt.imshow(compress, cmap = 'gray')\n",
    "plt.axis('off')"
   ]
  },
  {
   "cell_type": "code",
   "execution_count": null,
   "metadata": {},
   "outputs": [],
   "source": [
    "plt.figure(figsize = (2.5, 4))\n",
    "plt.imshow(plt.imread('poker/10D.png'))\n",
    "plt.axis('off')"
   ]
  },
  {
   "cell_type": "code",
   "execution_count": null,
   "metadata": {},
   "outputs": [],
   "source": [
    "def get_diamond():\n",
    "    num = ['A', '2', '3', '4', '5', '6', '7', '8', '9', '10']\n",
    "    paths = ['poker/' + n + 'D.png' for n in num]\n",
    "    imgs = [to_black(path) for path in paths]\n",
    "    new_img = np.zeros((1056,691))\n",
    "    new_img[2:-2, 4:-4] = imgs[6]\n",
    "    imgs[6] = new_img\n",
    "    return np.stack([flatten(img[130:-130:10,130:-130:10]) for img in imgs])"
   ]
  },
  {
   "cell_type": "code",
   "execution_count": null,
   "metadata": {},
   "outputs": [],
   "source": [
    "def get_space():\n",
    "    num = ['A', '2', '3', '4', '5', '6', '7', '8', '9', '10']\n",
    "    paths = ['poker/' + n + 'S.png' for n in num]\n",
    "    imgs = [to_black(path) for path in paths]\n",
    "    #print([img.shape for img in imgs])\n",
    "    new_img = np.zeros((1056,691))\n",
    "    new_img[2:-2, 4:-4] = imgs[5]\n",
    "    imgs[5] = new_img\n",
    "    return np.stack([flatten(img[130:-130:10,130:-130:10]) for img in imgs])"
   ]
  },
  {
   "cell_type": "code",
   "execution_count": null,
   "metadata": {},
   "outputs": [],
   "source": [
    "def get_club():\n",
    "    num = ['A', '2', '3', '4', '5', '6', '7', '8', '9', '10']\n",
    "    paths = ['poker/' + n + 'C.png' for n in num]\n",
    "    imgs = [to_black(path) for path in paths]\n",
    "    new_img = np.zeros((1056,691))\n",
    "    new_img[2:-2, 4:-4] = imgs[5]\n",
    "    imgs[5] = new_img\n",
    "    return np.stack([flatten(img[130:-130:10,130:-130:10]) for img in imgs])"
   ]
  },
  {
   "cell_type": "code",
   "execution_count": null,
   "metadata": {},
   "outputs": [],
   "source": [
    "def get_heart():\n",
    "    num = ['A', '2', '3', '4', '5', '6', '7', '8', '9', '10']\n",
    "    paths = ['poker/' + n + 'H.png' for n in num]\n",
    "    imgs = [to_black(path) for path in paths]\n",
    "    return np.stack([flatten(img[130:-130:10,130:-130:10]) for img in imgs])"
   ]
  },
  {
   "cell_type": "code",
   "execution_count": null,
   "metadata": {},
   "outputs": [],
   "source": [
    "Xd = get_diamond()\n",
    "X = np.tile(Xd, reps = (10, 1))\n",
    "X += np.random.normal(0, 0.15, X.shape)\n",
    "X_avg = np.mean(X, axis=0)\n",
    "X -= X_avg\n",
    "plt.imshow(X[30].reshape(80, 44), cmap = \"gray\")"
   ]
  },
  {
   "cell_type": "code",
   "execution_count": null,
   "metadata": {
    "tags": [
     "outputPrepend",
     "outputPrepend",
     "outputPrepend",
     "outputPrepend",
     "outputPrepend",
     "outputPrepend",
     "outputPrepend",
     "outputPrepend",
     "outputPrepend",
     "outputPrepend",
     "outputPrepend",
     "outputPrepend",
     "outputPrepend",
     "outputPrepend",
     "outputPrepend",
     "outputPrepend",
     "outputPrepend",
     "outputPrepend",
     "outputPrepend",
     "outputPrepend"
    ]
   },
   "outputs": [],
   "source": [
    "ibp = IBP.IBP(X, sigma_X = (0.1, 1, 1),sigma_A=(0.5, 1, 1), alpha = (1, 1, 1))\n",
    "hist = ibp.MCMC(300)"
   ]
  },
  {
   "cell_type": "code",
   "execution_count": null,
   "metadata": {},
   "outputs": [],
   "source": [
    "fig, ax = plt.subplots(4,1,sharex = True, figsize = (12,8))\n",
    "ax[0].plot(hist['K'])\n",
    "ax[0].set_ylabel('K', fontsize = 17)\n",
    "ax[0].set_ylim(10,30)\n",
    "ax[1].plot(hist['alpha'])\n",
    "ax[1].set_ylabel('$\\\\alpha$',fontsize = 17)\n",
    "ax[1].set_ylim(0,200)\n",
    "ax[2].plot(hist['sigma_X'])\n",
    "ax[2].set_ylabel('$\\\\sigma_X$',fontsize = 17)\n",
    "ax[2].set_ylim(0.1,0.2)\n",
    "ax[3].plot(hist['sigma_A'])\n",
    "ax[3].set_ylabel('$\\\\sigma_A$',fontsize = 17)\n",
    "ax[3].set_ylim(0.,0.6)\n",
    "plt.xlim(0,300)\n",
    "for i in range(4):\n",
    "    ax[i].tick_params(labelsize=15)\n",
    "fig.align_ylabels(ax)"
   ]
  },
  {
   "cell_type": "code",
   "execution_count": null,
   "metadata": {},
   "outputs": [],
   "source": [
    "A = ibp.postMean()\n",
    "A_imgs = A.reshape(-1, 80, 44)"
   ]
  },
  {
   "cell_type": "code",
   "execution_count": null,
   "metadata": {},
   "outputs": [],
   "source": [
    "X_org = X.reshape(-1, 80, 44)\n",
    "num = X_org.shape[0]\n",
    "f = plt.figure(figsize = (20,12))\n",
    "plt.axis('off')\n",
    "g =  gridspec.GridSpec(2,1,figure = f, height_ratios=[8,1])\n",
    "gs = gridspec.GridSpecFromSubplotSpec(1, 2, subplot_spec = g[0])\n",
    "gs0 = gridspec.GridSpecFromSubplotSpec(10, (num - 1) // 10 + 1, subplot_spec=gs[0])\n",
    "for i in range(num):\n",
    "    sp = f.add_subplot(gs0[i % 10, i // 10])\n",
    "    sp.set_xticks([])\n",
    "    sp.set_yticks([])\n",
    "    sp.imshow(X_org[i], cmap = 'gray')\n",
    "X_imgs = (hist['Z'][-1] @ A).reshape(-1, 80, 44)\n",
    "\n",
    "gs1 = gridspec.GridSpecFromSubplotSpec(10, (X_imgs.shape[0] - 1) // 10 + 1, subplot_spec=gs[1])\n",
    "for i in range(X_imgs.shape[0]):\n",
    "    sp = f.add_subplot(gs1[i % 10, i // 10])\n",
    "    sp.set_xticks([])\n",
    "    sp.set_yticks([])\n",
    "    sp.imshow(X_imgs[i], cmap = 'gray')\n",
    "\n",
    "gsb = gridspec.GridSpecFromSubplotSpec(1, A_imgs.shape[0], subplot_spec=g[1])\n",
    "for i in range(A_imgs.shape[0]):\n",
    "    sp = f.add_subplot(gsb[0, i])\n",
    "    sp.set_xticks([])\n",
    "    sp.set_yticks([])\n",
    "    sp.imshow(A_imgs[i], cmap = 'gray')"
   ]
  },
  {
   "cell_type": "code",
   "execution_count": null,
   "metadata": {},
   "outputs": [],
   "source": [
    "def feature_map(feature, X_prior, Z, shape, order, truncate = None):\n",
    "    feature = feature[order, :]\n",
    "    Z = Z[:, order]\n",
    "    if truncate is not None:\n",
    "        feature = feature[:truncate, :]\n",
    "        Z = Z[:, :truncate]\n",
    "    X = X_avg.reshape(shape)\n",
    "    X_post = Z @ feature\n",
    "    f = plt.figure(figsize = (18,12))\n",
    "    plt.axis('off')\n",
    "    positive = np.tile(np.array([[[0.29803923, 0.6431373, 0.24705882]]]), reps = (*shape, 1))\n",
    "    negative = np.tile(np.array([[[0.9, 0.9, 0.9]]]), reps = (*shape, 1))\n",
    "    grid = gridspec.GridSpec(nrows = (X_prior.shape[0] + 1), ncols = (feature.shape[0] + 3), figure = f)\n",
    "    sp = f.add_subplot(grid[0, 1])\n",
    "    sp.set_xticks([])\n",
    "    sp.set_yticks([])\n",
    "    sp.imshow(X, cmap = 'gray')\n",
    "    for idf in range(feature.shape[0]):\n",
    "        sp = f.add_subplot(grid[0, idf + 2])\n",
    "        sp.set_xticks([])\n",
    "        sp.set_yticks([])\n",
    "        sp.imshow(feature[idf].reshape(shape), cmap = 'gray')\n",
    "    for idx in range(X_prior.shape[0]):\n",
    "        sp = f.add_subplot(grid[idx + 1, 0])\n",
    "        sp.set_xticks([])\n",
    "        sp.set_yticks([])\n",
    "        sp.imshow(X_prior[idx].reshape(shape) + X, cmap = 'gray')\n",
    "        sp = f.add_subplot(grid[idx + 1, -1])\n",
    "        sp.set_xticks([])\n",
    "        sp.set_yticks([])\n",
    "        sp.imshow(X_post[idx].reshape(shape) + X, cmap = 'gray')\n",
    "    for i in range(Z.shape[0]):\n",
    "        sp = f.add_subplot(grid[i + 1, 1])\n",
    "        sp.set_xticks([])\n",
    "        sp.set_yticks([])\n",
    "        sp.axis('off')\n",
    "        sp.imshow(positive)\n",
    "        for j in range(Z.shape[1]):\n",
    "            back = Z[i,j] * positive + (1 - Z[i,j]) * negative\n",
    "            sp = f.add_subplot(grid[i + 1, j + 2])\n",
    "            sp.set_xticks([])\n",
    "            sp.set_yticks([])\n",
    "            sp.axis('off')\n",
    "            sp.imshow(back)"
   ]
  },
  {
   "cell_type": "code",
   "execution_count": null,
   "metadata": {},
   "outputs": [],
   "source": [
    "Z = hist['Z'][-1]\n",
    "idx = [0, 11, 2, 3, 4, 5, 6, 7, 8, 9]\n",
    "coef = -2 ** np.array(list(range(10))[::-1]) @ Z[idx]\n",
    "feature_map(A, X[idx], Z[idx] * np.log(count) / np.log(100), (80, 44), order = np.argsort(coef))"
   ]
  },
  {
   "cell_type": "code",
   "execution_count": null,
   "metadata": {},
   "outputs": [],
   "source": []
  }
 ],
 "metadata": {
  "language_info": {
   "codemirror_mode": {
    "name": "ipython",
    "version": 3
   },
   "file_extension": ".py",
   "mimetype": "text/x-python",
   "name": "python",
   "nbconvert_exporter": "python",
   "pygments_lexer": "ipython3",
   "version": "3.7.3-final"
  },
  "orig_nbformat": 2,
  "kernelspec": {
   "name": "python3",
   "display_name": "Python 3"
  }
 },
 "nbformat": 4,
 "nbformat_minor": 2
}