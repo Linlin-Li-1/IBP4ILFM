{
 "cells": [
  {
   "cell_type": "code",
   "execution_count": null,
   "metadata": {},
   "outputs": [],
   "source": [
    "import numpy as np\n",
    "from ibp import IBP\n",
    "import numpy as np\n",
    "import matplotlib.pyplot as plt\n",
    "import math\n",
    "import time\n",
    "import numpy as np\n",
    "from matplotlib import pyplot as plt\n",
    "import matplotlib.gridspec as gridspec"
   ]
  },
  {
   "cell_type": "code",
   "execution_count": null,
   "metadata": {},
   "outputs": [],
   "source": [
    "V1 = np.array([\n",
    "    1, 0, 0, 0, 0, 0,\n",
    "    1, 0, 0, 0, 0, 0,\n",
    "    1, 0, 0, 0, 0, 0,\n",
    "    1, 0, 0, 0, 0, 0,\n",
    "    0, 0, 0, 0, 0, 0,\n",
    "    0, 0, 0, 0, 0, 0\n",
    "])\n",
    "V2 = np.array([\n",
    "    0, 0, 0, 0, 0, 0,\n",
    "    0, 0, 0, 0, 0, 0,\n",
    "    0, 0, 0, 0, 0, 0,\n",
    "    0, 0, 0, 0, 0, 0,\n",
    "    1, 0, 0, 0, 0, 0,\n",
    "    1, 1, 1, 0, 0, 0\n",
    "])\n",
    "V3 = np.array([\n",
    "    0, 0, 0, 0, 0, 0,\n",
    "    0, 0, 0, 0, 0, 0,\n",
    "    0, 0, 0, 0, 0, 0,\n",
    "    0, 0, 0, 0, 0, 0,\n",
    "    0, 0, 0, 0, 1, 1,\n",
    "    0, 0, 0, 0, 1, 1\n",
    "])\n",
    "V4 = np.array([\n",
    "    0, 0, 0, 0, 1, 1,\n",
    "    0, 0, 0, 0, 0, 1,\n",
    "    0, 0, 0, 0, 0, 1,\n",
    "    0, 0, 0, 0, 0, 0,\n",
    "    0, 0, 0, 0, 0, 0,\n",
    "    0, 0, 0, 0, 0, 0\n",
    "])\n",
    "V5 = np.array([\n",
    "    0, 0, 0, 0, 0, 0,\n",
    "    0, 0, 0, 0, 0, 0,\n",
    "    0, 1, 1, 1, 0, 0,\n",
    "    0, 0, 1, 0, 0, 0,\n",
    "    0, 0, 0, 0, 0, 0,\n",
    "    0, 0, 0, 0, 0, 0\n",
    "])\n",
    "V = [V1, V2, V3, V4, V5]\n",
    "\n",
    "N = 100\n",
    "D1 = np.outer(np.random.binomial(1, 0.5, N), V1)\n",
    "D2 = np.outer(np.random.binomial(1, 0.5, N), V2)\n",
    "D3 = np.outer(np.random.binomial(1, 0.5, N), V3)\n",
    "D4 = np.outer(np.random.binomial(1, 0.5, N), V4)\n",
    "D5 = np.outer(np.random.binomial(1, 0.5, N), V5)\n",
    "X = D1 + D2 + D3 + D4 + D5\n",
    "X = X[np.sum(X, axis = 1) > 0] * 1.0\n",
    "X += np.random.normal(0, 0.1, X.shape)\n",
    "print(X.shape)"
   ]
  },
  {
   "cell_type": "code",
   "execution_count": null,
   "metadata": {},
   "outputs": [],
   "source": [
    "fig, ax = plt.subplots(1,5,figsize = (10,2))\n",
    "for i in range(5):\n",
    "    ax[i].set_xticks([])\n",
    "    ax[i].set_yticks([])\n",
    "    ax[i].imshow((1-V[i]).reshape(6,6), 'gray')"
   ]
  },
  {
   "cell_type": "code",
   "execution_count": null,
   "metadata": {},
   "outputs": [],
   "source": [
    "ibp = IBP.IBP(X, alpha = (1,1,1), sigma_X = (1,1,1), sigma_A = (1,1,1))\n",
    "hist = ibp.MCMC(1000)"
   ]
  },
  {
   "cell_type": "code",
   "execution_count": null,
   "metadata": {},
   "outputs": [],
   "source": [
    "fig, ax = plt.subplots(4,1,sharex = True, figsize = (12,8))\n",
    "ax[0].plot(hist['K'])\n",
    "ax[0].set_ylabel('K', fontsize = 17)\n",
    "ax[0].set_ylim(0,10)\n",
    "ax[1].plot(hist['alpha'])\n",
    "ax[1].set_ylabel('$\\\\alpha$',fontsize = 17)\n",
    "ax[1].set_ylim(0,120)\n",
    "ax[2].plot(hist['sigma_X'])\n",
    "ax[2].set_ylabel('$\\\\sigma_X$',fontsize = 17)\n",
    "ax[2].set_ylim(0,1.2)\n",
    "ax[3].plot(hist['sigma_A'])\n",
    "ax[3].set_ylabel('$\\\\sigma_A$',fontsize = 17)\n",
    "ax[3].set_ylim(0,1.2)\n",
    "plt.xlim(0,1000)\n",
    "for i in range(4):\n",
    "    ax[i].tick_params(labelsize=15)\n",
    "fig.align_ylabels(ax)"
   ]
  },
  {
   "cell_type": "code",
   "execution_count": null,
   "metadata": {},
   "outputs": [],
   "source": [
    "def feature_map(feature, X_prior, Z, shape, order, truncate = None):\n",
    "    feature = feature[order, :]\n",
    "    Z = Z[:, order]\n",
    "    if truncate is not None:\n",
    "        feature = feature[:truncate, :]\n",
    "        Z = Z[:, :truncate]\n",
    "    X_post = Z @ feature\n",
    "    f = plt.figure(figsize = (18,12))\n",
    "    plt.axis('off')\n",
    "    positive = np.tile(np.array([[[0.29803923, 0.6431373, 0.24705882]]]), reps = (*shape, 1))\n",
    "    negative = np.tile(np.array([[[0.9, 0.9, 0.9]]]), reps = (*shape, 1))\n",
    "    grid = gridspec.GridSpec(nrows = (X_prior.shape[0] + 1), ncols = (feature.shape[0] + 2), figure = f)\n",
    "    for idf in range(feature.shape[0]):\n",
    "        sp = f.add_subplot(grid[0, idf + 1])\n",
    "        sp.set_xticks([])\n",
    "        sp.set_yticks([])\n",
    "        sp.imshow(feature[idf].reshape(shape), cmap = 'gray')\n",
    "    for idx in range(X_prior.shape[0]):\n",
    "        sp = f.add_subplot(grid[idx + 1, 0])\n",
    "        sp.set_xticks([])\n",
    "        sp.set_yticks([])\n",
    "        sp.imshow(X_prior[idx].reshape(shape), cmap = 'gray')\n",
    "        sp = f.add_subplot(grid[idx + 1, -1])\n",
    "        sp.set_xticks([])\n",
    "        sp.set_yticks([])\n",
    "        sp.imshow(X_post[idx].reshape(shape), cmap = 'gray')\n",
    "    for i in range(Z.shape[0]):\n",
    "        for j in range(Z.shape[1]):\n",
    "            back = Z[i,j] * positive + (1 - Z[i,j]) * negative\n",
    "            sp = f.add_subplot(grid[i + 1, j + 1])\n",
    "            sp.set_xticks([])\n",
    "            sp.set_yticks([])\n",
    "            sp.axis('off')\n",
    "            sp.imshow(back)"
   ]
  },
  {
   "cell_type": "code",
   "execution_count": null,
   "metadata": {},
   "outputs": [],
   "source": [
    "A = ibp.postMean()\n",
    "Z = hist['Z'][-1]\n",
    "idx = [0, 1, 2, 3, 4, 5, 6, 7, 8, 9]\n",
    "order = np.argsort(np.sum(Z, axis = 0))[::-1]\n",
    "feature_map(A, X[idx], Z[idx], (6, 6), order = order)"
   ]
  },
  {
   "cell_type": "code",
   "execution_count": null,
   "metadata": {},
   "outputs": [],
   "source": [
    "fig, ax = plt.subplots(1,5,figsize = (10,2))\n",
    "for i in range(5):\n",
    "    ax[i].set_xticks([])\n",
    "    ax[i].set_yticks([])\n",
    "    ax[i].imshow((1-A[i]).reshape(6,6), 'gray')"
   ]
  },
  {
   "cell_type": "code",
   "execution_count": null,
   "metadata": {},
   "outputs": [],
   "source": [
    "fig, ax = plt.subplots(2,5,figsize = (10,4.5))\n",
    "def to_str(a):\n",
    "    s = ''\n",
    "    for i in range(a.shape[0]):\n",
    "        if i != 0:\n",
    "            s += ', '\n",
    "        s += str(int(a[i]))\n",
    "    return s\n",
    "for i in range(10):\n",
    "    ax[i // 5, i % 5].set_xticks([])\n",
    "    ax[i // 5, i % 5].set_yticks([])\n",
    "    ax[i // 5, i % 5].imshow((1-X[i]).reshape(6,6), 'gray')\n",
    "    ax[i // 5, i % 5].set_xlabel(to_str(Z[i]), fontsize = 14)"
   ]
  },
  {
   "cell_type": "code",
   "execution_count": null,
   "metadata": {},
   "outputs": [],
   "source": []
  }
 ],
 "metadata": {
  "kernelspec": {
   "display_name": "Python 3",
   "language": "python",
   "name": "python3"
  },
  "language_info": {
   "codemirror_mode": {
    "name": "ipython",
    "version": 3
   },
   "file_extension": ".py",
   "mimetype": "text/x-python",
   "name": "python",
   "nbconvert_exporter": "python",
   "pygments_lexer": "ipython3",
   "version": "3.7.3-final"
  }
 },
 "nbformat": 4,
 "nbformat_minor": 4
}